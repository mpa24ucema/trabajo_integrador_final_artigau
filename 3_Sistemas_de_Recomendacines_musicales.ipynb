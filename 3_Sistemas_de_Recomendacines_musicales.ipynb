{
  "nbformat": 4,
  "nbformat_minor": 0,
  "metadata": {
    "colab": {
      "provenance": [],
      "toc_visible": true
    },
    "kernelspec": {
      "name": "python3",
      "display_name": "Python 3"
    },
    "language_info": {
      "name": "python"
    }
  },
  "cells": [
    {
      "cell_type": "code",
      "source": [
        "from google.colab import drive\n",
        "import pandas as pd\n",
        "\n",
        "drive.mount('/content/drive', force_remount=True)"
      ],
      "metadata": {
        "colab": {
          "base_uri": "https://localhost:8080/"
        },
        "id": "RweU2c2IMvbv",
        "outputId": "fb4d8096-be45-4a6a-a813-20186db9b347"
      },
      "execution_count": null,
      "outputs": [
        {
          "output_type": "stream",
          "name": "stdout",
          "text": [
            "Mounted at /content/drive\n"
          ]
        }
      ]
    },
    {
      "cell_type": "code",
      "source": [
        "path_drive = '/content/drive/MyDrive/TESIS/'\n",
        "\n",
        "df1 = pd.read_csv(path_drive + 'df1.csv')\n",
        "df1_clean = pd.read_csv(path_drive + 'df1_clean.csv')\n",
        "df2 = pd.read_csv(path_drive + 'df2.csv')\n",
        "df2_letras = pd.read_csv(path_drive + 'df2_letras.csv')\n",
        "\n",
        "\n",
        "print(\"Archivos cargados exitosamente desde Google Drive.\")"
      ],
      "metadata": {
        "colab": {
          "base_uri": "https://localhost:8080/"
        },
        "id": "HXVDPcnwNphv",
        "outputId": "1a7ef97b-9029-4340-d7cf-6059bcb04f34"
      },
      "execution_count": null,
      "outputs": [
        {
          "output_type": "stream",
          "name": "stdout",
          "text": [
            "Archivos cargados exitosamente desde Google Drive.\n"
          ]
        }
      ]
    },
    {
      "cell_type": "markdown",
      "source": [
        "#DF2 CANCIONES SEGUN EMOCIONES"
      ],
      "metadata": {
        "id": "VSD46OTM3jQl"
      }
    },
    {
      "cell_type": "markdown",
      "source": [
        "Vamos a filtrar nuestro conjunto de datos de acuerdo a las caracteristcas que rescatamos de nuestro análisis para cada trastorno."
      ],
      "metadata": {
        "id": "NApNlAS45Rv7"
      }
    },
    {
      "cell_type": "code",
      "source": [
        "# Filtrar las canciones según las características especificadas\n",
        "df2_emocion = df2_letras[\n",
        "    # Primer conjunto de condiciones: acústica alta, danceabilidad baja, energía baja, géneros relajantes\n",
        "    ((df2_letras['Acousticness'] > 0.6) &\n",
        "     (df2_letras['Danceability'] < 0.2) &\n",
        "     (df2_letras['Energy'] < 0.4) &\n",
        "     (df2_letras['Género'].isin(['Classical & Orchestral', 'Instrumental & Relaxation', 'Video Game Music', 'Indie', 'R&B/Soul', 'Lo-fi & Chill', 'Folk'])))\n",
        "    |\n",
        "    # Segundo conjunto de condiciones: acústica baja, danceabilidad alta, energía alta, géneros energéticos\n",
        "    ((df2_letras['Acousticness'] < 0.4) &\n",
        "     (df2_letras['Danceability'] > 0.6) &\n",
        "     (df2_letras['Energy'] > 0.7) &\n",
        "     (df2_letras['Género'].isin(['K-Pop', 'Rock', 'Country', 'Pop'])))\n",
        "]"
      ],
      "metadata": {
        "id": "3DKqDA2-4b24"
      },
      "execution_count": null,
      "outputs": []
    },
    {
      "cell_type": "markdown",
      "source": [
        "# **Sistema de recomendación por similitud: letra y características musicales**"
      ],
      "metadata": {
        "id": "xi0pAKvHPa0H"
      }
    },
    {
      "cell_type": "markdown",
      "source": [
        "Este es un sistema de recomendación de música que sugiere canciones similares a una seleccionada por el usuario, basándose en el sentimiento de la letra (alegre o triste) y el ritmo de la canción (bailable o no bailable), utilizando análisis de sentimiento y características musicales como la energía y la valencia.\n",
        "\n",
        "* Si seleccionas \"alegria\", el sistema selecciona canciones con sentimiento positivo según VADER y con un ritmo alto (alto Total Positivity Score).\n",
        "* Si seleccionas \"tristeza\", el sistema selecciona canciones con sentimiento negativo según VADER y con un ritmo bajo (bajo Total Positivity Score).\n",
        "\n",
        "\n",
        "En resumen, cuando un usuario selecciona una canción triste y luego solicita una recomendación alegre, el sistema basa su recomendación principalmente en la similitud musical (por ejemplo, la valencia, energía y capacidad de baile), independientemente del tipo de sentimiento emocional que la canción original tenga. La recomendación será de una canción alegre, pero que comparte las características musicales relevantes (ritmo, tono, etc.) con la canción triste seleccionada por el usuario.\n",
        "\n",
        "Este enfoque asegura que el sistema puede sugerir canciones que son similares en términos de características musicales, incluso si son emocionalmente opuestas."
      ],
      "metadata": {
        "id": "TYn7cUMXPdr3"
      }
    },
    {
      "cell_type": "code",
      "source": [
        "from sklearn.metrics.pairwise import cosine_similarity\n",
        "import numpy as np\n",
        "\n",
        "# Función para recomendar una canción similar según el sentimiento y el ritmo\n",
        "def recomendar_cancion(cancion_usuario, sentimiento, df):\n",
        "    # Filtrar por sentimiento\n",
        "    if sentimiento == 'alegria':\n",
        "        df_filtrado = df[df['VADER_sentiment'] > 0]  # Sentimiento positivo\n",
        "    else:\n",
        "        df_filtrado = df[df['VADER_sentiment'] < 0]  # Sentimiento negativo\n",
        "\n",
        "    # Filtrar por ritmo (usamos Total Positivity Score como criterio)\n",
        "    if sentimiento == 'alegria':\n",
        "        df_filtrado = df_filtrado[df_filtrado['Total Positivity Score'] > 0.5]  # Ritmo alto\n",
        "    else:\n",
        "        df_filtrado = df_filtrado[df_filtrado['Total Positivity Score'] < 0.5]  # Ritmo bajo\n",
        "\n",
        "    # Convertir las canciones en vectores (puedes usar más características si lo deseas)\n",
        "    canciones_vectors = df_filtrado[['Valence', 'Energy', 'Danceability']]\n",
        "\n",
        "    # Convertir la canción seleccionada por el usuario a un vector\n",
        "    cancion_vector = np.array([cancion_usuario['Valence'], cancion_usuario['Energy'], cancion_usuario['Danceability']]).reshape(1, -1)\n",
        "\n",
        "    # Calcular la similitud coseno entre la canción seleccionada y las demás\n",
        "    similitudes = cosine_similarity(cancion_vector, canciones_vectors)\n",
        "\n",
        "    # Ordenar las canciones por similitud\n",
        "    df_filtrado['similitud'] = similitudes[0]\n",
        "    df_filtrado = df_filtrado.sort_values('similitud', ascending=False)\n",
        "\n",
        "    # Filtrar para no incluir la canción seleccionada\n",
        "    df_filtrado = df_filtrado[df_filtrado['Nombre'] != cancion_usuario['Nombre']]\n",
        "\n",
        "    # Seleccionar las canciones más similares\n",
        "    recomendacion = df_filtrado.head(3)\n",
        "\n",
        "    # Mostrar los resultados con la similitud en el formato deseado\n",
        "    canciones_recomendadas = []\n",
        "    for _, row in recomendacion.iterrows():\n",
        "        canciones_recomendadas.append({\n",
        "            'artista': row['Artista'],\n",
        "            'genero': row['Género'],\n",
        "            'cancion_similar': row['Nombre'],\n",
        "            'similitud': row['similitud']\n",
        "        })\n",
        "\n",
        "    return canciones_recomendadas\n",
        "\n",
        "# Función principal para interactuar con el usuario\n",
        "def obtener_recomendacion():\n",
        "    # Solicitar al usuario el nombre de la canción de su interés\n",
        "    while True:  # Usamos un bucle para permitir reintentos\n",
        "        cancion_seleccionada = input(\"Por favor, ingrese el nombre de la canción que le interesa: \")\n",
        "\n",
        "        # Verificar si la canción existe en el dataframe\n",
        "        if cancion_seleccionada in df2_letras['Nombre'].values:\n",
        "            cancion_usuario = df2_letras[df2_letras['Nombre'] == cancion_seleccionada].iloc[0]\n",
        "            break  # Salir del bucle si la canción está en la base de datos\n",
        "        else:\n",
        "            print(\"La canción no se encuentra en el sistema. Intente nuevamente.\")  # Mensaje de error\n",
        "\n",
        "    # Solicitar al usuario el tipo de sentimiento que desea (alegria o tristeza)\n",
        "    while True:\n",
        "        sentimiento_usuario = input(\"¿Qué tipo de sentimiento desea que le transmita? (alegria/tristeza): \").lower()\n",
        "        if sentimiento_usuario in ['alegria', 'tristeza']:\n",
        "            break  # Salir del bucle si la entrada es válida\n",
        "        else:\n",
        "            print(\"Entrada no válida. Por favor ingrese 'alegria' o 'tristeza'.\")  # Mensaje de error para entrada no válida\n",
        "\n",
        "    # Llamar a la función de recomendación\n",
        "    resultado = recomendar_cancion(cancion_usuario, sentimiento_usuario, df2_letras)\n",
        "\n",
        "    # Mostrar las canciones recomendadas con la similitud en el formato solicitado\n",
        "    print(\"\\nCanciones recomendadas y sus similitudes:\")\n",
        "    for recomendacion in resultado:\n",
        "        print(f\"\\nArtista: {recomendacion['artista']} ({recomendacion['genero']})\")\n",
        "        print(f\"Canción similar: {recomendacion['cancion_similar']}\")\n",
        "        print(f\"Similitud: {recomendacion['similitud']:.4f}\")\n",
        "\n",
        "# Llamar a la función principal para empezar la interacción con el usuario\n",
        "obtener_recomendacion()\n"
      ],
      "metadata": {
        "colab": {
          "base_uri": "https://localhost:8080/"
        },
        "id": "rUkFxBsH8H1s",
        "outputId": "e3d8f9f0-c0c0-4fcb-9ea9-3b49481c20b1"
      },
      "execution_count": null,
      "outputs": [
        {
          "output_type": "stream",
          "name": "stdout",
          "text": [
            "Por favor, ingrese el nombre de la canción que le interesa: Espresso\n",
            "¿Qué tipo de sentimiento desea que le transmita? (alegria/tristeza): alegría\n",
            "Entrada no válida. Por favor ingrese 'alegria' o 'tristeza'.\n",
            "¿Qué tipo de sentimiento desea que le transmita? (alegria/tristeza): alegria\n",
            "\n",
            "Canciones recomendadas y sus similitudes:\n",
            "\n",
            "Artista: Lady Gaga (Pop)\n",
            "Canción similar: Die With A Smile\n",
            "Similitud: 1.0000\n",
            "\n",
            "Artista: Bailey Zimmerman (nan)\n",
            "Canción similar: Religiously\n",
            "Similitud: 0.9997\n",
            "\n",
            "Artista: Smash Mouth (Rock)\n",
            "Canción similar: All Star\n",
            "Similitud: 0.9996\n"
          ]
        }
      ]
    },
    {
      "cell_type": "markdown",
      "source": [
        "# **Sistema de recomendación por similitud: artistas y canciones**\n",
        "\n",
        "Este sistema sugiere artistas similares y sus canciones más parecidas basándose en el sentimiento de sus letras y las características musicales de sus canciones.\n",
        "\n",
        "¿Cómo funciona?\n",
        "- Selección del artista: El usuario ingresa el nombre de un artista, y el sistema verifica que esté en la base de datos.\n",
        "\n",
        "- Tipos de recomendación:\n",
        "\n",
        "Similitud por sentimiento (VADER): Se analiza el sentimiento de las canciones del artista seleccionado (positivo o negativo). Luego, el sistema recomienda artistas con sentimientos similares a los de ese artista.\n",
        "\n",
        "1. Recomendación de artistas similares:\n",
        "\n",
        "Se filtran los artistas con un sentimiento similar al del artista seleccionado, y se devuelven los tres artistas más similares.\n",
        "\n",
        "2. Recomendación de canciones:\n",
        "\n",
        "Para cada artista recomendado, el sistema encuentra canciones similares a las del artista seleccionado, comparando características musicales como valencia y energía.\n",
        "Las canciones se ordenan por similitud (medida usando el cálculo de similitud coseno), y se evita recomendar canciones repetidas."
      ],
      "metadata": {
        "id": "FPOclNPTTkbA"
      }
    },
    {
      "cell_type": "code",
      "source": [
        "import pandas as pd\n",
        "from sklearn.metrics.pairwise import cosine_similarity\n",
        "import numpy as np\n",
        "\n",
        "# Función para recomendar artistas similares\n",
        "def recomendar_artistas(artista_usuario, df, tipo_recomendacion='vader'):\n",
        "    # Filtrar para no incluir el propio artista\n",
        "    df_filtrado = df[df['Artista'] != artista_usuario]\n",
        "\n",
        "    if tipo_recomendacion == 'vader':\n",
        "        # Filtrar por sentimiento (usamos el valor de VADER)\n",
        "        vader_sentiment = df[df['Artista'] == artista_usuario]['VADER_sentiment'].iloc[0]\n",
        "        if vader_sentiment > 0:\n",
        "            df_filtrado = df_filtrado[df_filtrado['VADER_sentiment'] > 0]  # Similar en sentimiento positivo\n",
        "        else:\n",
        "            df_filtrado = df_filtrado[df_filtrado['VADER_sentiment'] < 0]  # Similar en sentimiento negativo\n",
        "\n",
        "    # Seleccionar los artistas más similares (por defecto los 3 primeros)\n",
        "    recomendacion_artistas = df_filtrado.head(3)  # Devolvemos los 3 artistas más similares\n",
        "    return recomendacion_artistas\n",
        "\n",
        "\n",
        "# Función para obtener canciones similares de los artistas recomendados\n",
        "def obtener_canciones_similares(artista_usuario, artistas_recomendados, df):\n",
        "    canciones_similares = []\n",
        "    canciones_recomendadas = set()  # Para evitar canciones repetidas\n",
        "\n",
        "    # Buscar canciones similares para cada uno de los artistas recomendados\n",
        "    for idx, row in artistas_recomendados.iterrows():\n",
        "        artista_recomendado = row['Artista']\n",
        "        # Buscar las canciones de ese artista\n",
        "        canciones = df[df['Artista'] == artista_recomendado]\n",
        "\n",
        "        # Ordenar canciones por similitud\n",
        "        similitudes = cosine_similarity(\n",
        "            df[df['Artista'] == artista_usuario][['Valence', 'Energy']],\n",
        "            canciones[['Valence', 'Energy']]\n",
        "        )\n",
        "        canciones['similitud'] = similitudes[0]\n",
        "\n",
        "        # Seleccionar la canción más similar que no haya sido recomendada aún\n",
        "        for i, cancion in canciones.iterrows():\n",
        "            if cancion['Nombre'] not in canciones_recomendadas:\n",
        "                canciones_recomendadas.add(cancion['Nombre'])\n",
        "                canciones_similares.append({\n",
        "                    'artista': artista_recomendado,\n",
        "                    'genero': row['Género'],\n",
        "                    'cancion_similar': cancion['Nombre'],\n",
        "                    'similitud': cancion['similitud']\n",
        "                })\n",
        "                break  # Seleccionamos solo una canción similar por artista\n",
        "\n",
        "    return canciones_similares\n",
        "\n",
        "# Función principal para interactuar con el usuario\n",
        "def obtener_recomendacion_artista():\n",
        "    # Solicitar al usuario el nombre del artista que le interesa\n",
        "    while True:\n",
        "        artista_seleccionado = input(\"Por favor, ingrese el nombre del artista que le interesa: \")\n",
        "\n",
        "        # Verificar si el artista existe en el dataframe\n",
        "        if artista_seleccionado in df2_letras['Artista'].values:\n",
        "            break  # Salir del bucle si el artista está en la base de datos\n",
        "        else:\n",
        "            print(\"El artista no se encuentra en el sistema. Intente nuevamente.\")  # Mensaje de error\n",
        "\n",
        "    # Llamar a la función de recomendación para artistas similares\n",
        "    artistas_recomendados = recomendar_artistas(artista_seleccionado, df2_letras, tipo_recomendacion='vader')\n",
        "\n",
        "    # Llamar a la función para obtener canciones similares entre los artistas recomendados\n",
        "    canciones_similares = obtener_canciones_similares(artista_seleccionado, artistas_recomendados, df2_letras)\n",
        "\n",
        "    # Mostrar los resultados\n",
        "    print(\"\\nRecomendaciones de artistas y canciones similares:\")\n",
        "    for recomendacion in canciones_similares:\n",
        "        print(f\"\\nArtista recomendado: {recomendacion['artista']} ({recomendacion['genero']})\")\n",
        "        print(f\"Canción similar: {recomendacion['cancion_similar']}\")\n",
        "        print(f\"Similitud: {recomendacion['similitud']:.4f}\")\n",
        "\n",
        "# Llamar a la función principal para empezar la interacción con el usuario\n",
        "obtener_recomendacion_artista()\n",
        "\n"
      ],
      "metadata": {
        "colab": {
          "base_uri": "https://localhost:8080/"
        },
        "id": "0xECEcfA6F6W",
        "outputId": "53978d94-0f9b-4594-f900-7cdb1b30f2ad"
      },
      "execution_count": null,
      "outputs": [
        {
          "output_type": "stream",
          "name": "stdout",
          "text": [
            "Por favor, ingrese el nombre del artista que le interesa: Sabrina Carpenter\n",
            "\n",
            "Recomendaciones de artistas y canciones similares:\n",
            "\n",
            "Artista recomendado: Lady Gaga (Pop)\n",
            "Canción similar: Die With A Smile\n",
            "Similitud: 1.0000\n",
            "\n",
            "Artista recomendado: Kendrick Lamar (Hip Hop)\n",
            "Canción similar: squabble up\n",
            "Similitud: 0.9973\n",
            "\n",
            "Artista recomendado: Kendrick Lamar (Hip Hop)\n",
            "Canción similar: luther (with sza)\n",
            "Similitud: 0.9989\n"
          ]
        },
        {
          "output_type": "stream",
          "name": "stderr",
          "text": [
            "<ipython-input-5-b4be7137c91b>:39: SettingWithCopyWarning: \n",
            "A value is trying to be set on a copy of a slice from a DataFrame.\n",
            "Try using .loc[row_indexer,col_indexer] = value instead\n",
            "\n",
            "See the caveats in the documentation: https://pandas.pydata.org/pandas-docs/stable/user_guide/indexing.html#returning-a-view-versus-a-copy\n",
            "  canciones['similitud'] = similitudes[0]\n",
            "<ipython-input-5-b4be7137c91b>:39: SettingWithCopyWarning: \n",
            "A value is trying to be set on a copy of a slice from a DataFrame.\n",
            "Try using .loc[row_indexer,col_indexer] = value instead\n",
            "\n",
            "See the caveats in the documentation: https://pandas.pydata.org/pandas-docs/stable/user_guide/indexing.html#returning-a-view-versus-a-copy\n",
            "  canciones['similitud'] = similitudes[0]\n",
            "<ipython-input-5-b4be7137c91b>:39: SettingWithCopyWarning: \n",
            "A value is trying to be set on a copy of a slice from a DataFrame.\n",
            "Try using .loc[row_indexer,col_indexer] = value instead\n",
            "\n",
            "See the caveats in the documentation: https://pandas.pydata.org/pandas-docs/stable/user_guide/indexing.html#returning-a-view-versus-a-copy\n",
            "  canciones['similitud'] = similitudes[0]\n"
          ]
        }
      ]
    },
    {
      "cell_type": "markdown",
      "source": [
        "#**Sistema de Recomendación Musical Basado en el Estado Emocional**"
      ],
      "metadata": {
        "id": "kqvhsuLKEfLx"
      }
    },
    {
      "cell_type": "markdown",
      "source": [
        "El sistema busca proporcionar una experiencia personalizada, recomendando música que pueda aliviar o mejorar el estado emocional del usuario, ya sea proporcionando canciones relajantes para calmar la ansiedad o canciones energéticas para levantar el ánimo en caso de depresión\n",
        "\n",
        "- ¿Cómo funciona?\n",
        "Selección de la condición emocional: El usuario ingresa su condición emocional actual, como \"ansiedad\", \"insomnio\", \"toc\" (trastorno obsesivo-compulsivo) o \"depresión\".\n",
        "\n",
        "Filtrado de canciones: Dependiendo de la condición emocional seleccionada:\n",
        "\n",
        "- Para condiciones como ansiedad, insomnio o TOC, el sistema recomienda canciones relajantes (con acústica alta, danceabilidad baja, energía baja, y géneros como música clásica, instrumental o lo-fi).\n",
        "- Para depresión, recomienda canciones energéticas (con acústica baja, danceabilidad alta, energía alta, y géneros como pop, rock o k-pop).\n",
        "- Recomendación personalizada: El sistema calcula la similitud entre las canciones basándose en características musicales como la valencia (positividad) y la energía. Luego, muestra las tres canciones más recomendadas según la condición emocional del usuario.\n",
        "\n",
        "Interacción continua: El usuario puede decidir si quiere más canciones recomendadas. Si responde \"sí\", el sistema muestra otras tres canciones similares, y así sucesivamente hasta que el usuario indique que ya no desea más canciones."
      ],
      "metadata": {
        "id": "3aM_pPgJFEGH"
      }
    },
    {
      "cell_type": "code",
      "source": [
        "from sklearn.metrics.pairwise import cosine_similarity\n",
        "\n",
        "# Función para recomendar canciones según la condición emocional del usuario\n",
        "def recomendar_canciones_por_emocion(condicion_emocional, df):\n",
        "    # Aplicar los filtros basados en las condiciones emocionales\n",
        "    if condicion_emocional in ['ansiedad', 'insomnio', 'toc']:\n",
        "        # Filtro para canciones relajantes (acústica alta, danceabilidad baja, energía baja)\n",
        "        df_filtrado = df2_letras[\n",
        "             (df2_letras['Género'].isin(['Classical & Orchestral', 'Instrumental & Relaxation', 'Video Game Music', 'Indie', 'R&B/Soul', 'Lo-fi & Chill', 'Folk']))\n",
        "        ]\n",
        "    elif condicion_emocional == 'depresion':\n",
        "        # Filtro para canciones energéticas (acústica baja, danceabilidad alta, energía alta)\n",
        "        df_filtrado = df2_letras[\n",
        "            (df2_letras['Género'].isin(['K-Pop', 'Rock', 'Country', 'Pop']))\n",
        "        ]\n",
        "    else:\n",
        "        return None  # Si no es una condición válida\n",
        "\n",
        "    # Verificar si el dataframe tiene suficientes canciones después del filtrado\n",
        "    if df_filtrado.empty:\n",
        "        return None  # Si no hay canciones, devolvemos None\n",
        "\n",
        "    # Calcular la similitud entre las canciones basándonos en características como Valence y Energy\n",
        "    df_filtrado['similitud'] = cosine_similarity(df_filtrado[['Valence', 'Energy']], df_filtrado[['Valence', 'Energy']]).mean(axis=1)\n",
        "\n",
        "    # Ordenar las canciones por similitud\n",
        "    df_filtrado = df_filtrado.sort_values('similitud', ascending=False)\n",
        "\n",
        "    # Seleccionar las tres canciones más recomendadas\n",
        "    recomendacion = df_filtrado.head(3)\n",
        "\n",
        "    return recomendacion[['Nombre', 'Artista', 'Género', 'similitud']]\n",
        "\n",
        "# Función principal para interactuar con el usuario\n",
        "def obtener_recomendacion_emocion():\n",
        "    # Solicitar al usuario la condición emocional\n",
        "    while True:\n",
        "        condicion_usuario = input(\"Por favor, ingrese su condición emocional (ansiedad, insomnio, toc, depresion): \").lower()\n",
        "        if condicion_usuario in ['ansiedad', 'insomnio', 'toc', 'depresion']:\n",
        "            break\n",
        "        else:\n",
        "            print(\"Entrada no válida. Por favor ingrese una condición emocional válida.\")\n",
        "\n",
        "    while True:  # Bucle para continuar recomendando canciones hasta que el usuario diga que no\n",
        "        # Llamar a la función de recomendación para obtener las canciones\n",
        "        resultado = recomendar_canciones_por_emocion(condicion_usuario, df2_letras)\n",
        "\n",
        "        # Verificar si hay canciones recomendadas\n",
        "        if resultado is None:\n",
        "            print(\"\\nLo siento, no encontramos canciones que coincidan con su condición emocional.\")\n",
        "            break\n",
        "\n",
        "        # Mostrar las recomendaciones\n",
        "        print(\"\\nCanciones recomendadas basadas en su condición emocional:\")\n",
        "        for idx, row in resultado.iterrows():\n",
        "            print(f\"\\nCanción recomendada: {row['Nombre']}\")\n",
        "            print(f\"Artista: {row['Artista']}\")\n",
        "            print(f\"Género: {row['Género']}\")\n",
        "            print(f\"Similitud: {row['similitud']:.4f}\")\n",
        "\n",
        "        # Preguntar si el usuario necesita más canciones\n",
        "        while True:\n",
        "            respuesta = input(\"\\n¿Le gustaría más canciones recomendadas? (si/no): \").lower()\n",
        "            if respuesta == 'si':\n",
        "                break  # Si el usuario quiere más canciones, se repite el ciclo\n",
        "            elif respuesta == 'no':\n",
        "                print(\"\\nGracias por usar el sistema de recomendación.\")\n",
        "                return  # Si el usuario no quiere más canciones, terminamos la función\n",
        "            else:\n",
        "                print(\"Respuesta no válida. Por favor ingrese 'sí' o 'no'.\")\n",
        "\n",
        "# Llamar a la función principal para empezar la interacción con el usuario\n",
        "obtener_recomendacion_emocion()\n"
      ],
      "metadata": {
        "colab": {
          "base_uri": "https://localhost:8080/"
        },
        "id": "UvLYZRb1Bu0S",
        "outputId": "bfccbc2b-1c40-49a2-e57b-c1c1f9257329"
      },
      "execution_count": null,
      "outputs": [
        {
          "name": "stdout",
          "output_type": "stream",
          "text": [
            "Por favor, ingrese su condición emocional (ansiedad, insomnio, toc, depresion): toc\n"
          ]
        },
        {
          "output_type": "stream",
          "name": "stderr",
          "text": [
            "<ipython-input-6-8c2aac2e069b>:24: SettingWithCopyWarning: \n",
            "A value is trying to be set on a copy of a slice from a DataFrame.\n",
            "Try using .loc[row_indexer,col_indexer] = value instead\n",
            "\n",
            "See the caveats in the documentation: https://pandas.pydata.org/pandas-docs/stable/user_guide/indexing.html#returning-a-view-versus-a-copy\n",
            "  df_filtrado['similitud'] = cosine_similarity(df_filtrado[['Valence', 'Energy']], df_filtrado[['Valence', 'Energy']]).mean(axis=1)\n"
          ]
        },
        {
          "output_type": "stream",
          "name": "stdout",
          "text": [
            "\n",
            "Canciones recomendadas basadas en su condición emocional:\n",
            "\n",
            "Canción recomendada: What's The Difference\n",
            "Artista: Dr. Dre\n",
            "Género: R&B/Soul\n",
            "Similitud: 0.9651\n",
            "\n",
            "Canción recomendada: Flowers In Your Hair\n",
            "Artista: The Lumineers\n",
            "Género: Folk\n",
            "Similitud: 0.9651\n",
            "\n",
            "Canción recomendada: Talkin' Bout a Revolution\n",
            "Artista: Tracy Chapman\n",
            "Género: Folk\n",
            "Similitud: 0.9651\n",
            "\n",
            "¿Le gustaría más canciones recomendadas? (si/no): no\n",
            "\n",
            "Gracias por usar el sistema de recomendación.\n"
          ]
        }
      ]
    }
  ]
}